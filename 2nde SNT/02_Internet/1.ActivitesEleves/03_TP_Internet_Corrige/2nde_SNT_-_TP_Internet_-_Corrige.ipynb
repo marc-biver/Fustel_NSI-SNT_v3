{
 "cells": [
  {
   "cell_type": "markdown",
   "metadata": {},
   "source": [
    "<h1 class=\"alert alert-info\"><center>2<sup>nde</sup> 8 &mdash; SNT &mdash; TP Internet<br><br><i>Corrigé</i></center></h1>"
   ]
  },
  {
   "cell_type": "markdown",
   "metadata": {},
   "source": [
    "<p><i>Le but de ce TP était de voir en pratique les notions vues en cours autour du fonctionnement des réseaux et d'internet.</i></p>"
   ]
  },
  {
   "cell_type": "markdown",
   "metadata": {},
   "source": [
    "<h3>CE CORRIGE COMPORTE DES REPONSES EN <font color=\"red\"> ROUGE:</font> lisez-les avec attention, elles contiennent des éléments qui pourraient être utiles pour des contrôles à venir....</h3>"
   ]
  },
  {
   "cell_type": "markdown",
   "metadata": {},
   "source": [
    "<h2 class=\"alert alert-info\">Exercice 1 : vérifier la configuration réseau de votre machine</h2>"
   ]
  },
  {
   "cell_type": "markdown",
   "metadata": {},
   "source": [
    "Dans le menu démarrer (dans la zone \"Taper ici pour rechercher\"), taper `cmd` puis sur la touche <kbd>Enter<span>&crarr;</span></kbd><br>\n",
    "\n",
    "Vous venez d'ouvrir la ligne de commande Windows - une interface texte qui permet de donner des ordres à l'ordinateur sous forme de commandes.\n",
    "<br><br>\n",
    "Taper `ipconfig /all` puis <kbd>Enter<span>&crarr;</span></kbd><br>\n"
   ]
  },
  {
   "cell_type": "markdown",
   "metadata": {},
   "source": [
    "**1 - Quelle est l'adresse IP (ipv4) de votre machine?**"
   ]
  },
  {
   "cell_type": "markdown",
   "metadata": {},
   "source": [
    "Vous avez obtenu ici une adresse en \"172.20.12.xx\" correspondant à l'adresse sur le réseau du lycée de votre ordinateur."
   ]
  },
  {
   "cell_type": "markdown",
   "metadata": {},
   "source": [
    "**2 - Quelle est l'adresse MAC (adresse physique) de la carte réseau de votre ordinateur?**"
   ]
  },
  {
   "cell_type": "markdown",
   "metadata": {},
   "source": [
    "Le format obtenu ici ressemblait plus à \"34-64-A9-38-A6-6A\"."
   ]
  },
  {
   "cell_type": "markdown",
   "metadata": {},
   "source": [
    "**3 - Repensez au cours: si vous éteignez votre ordinateur aura-t-il toujours une adresse MAC? Une adresse IP? (expliquez brièvement pourquoi)**"
   ]
  },
  {
   "cell_type": "markdown",
   "metadata": {},
   "source": [
    "<font color=\"red\"><ul>\n",
    "    <li><b>Une adresse MAC</b> est définie par le fabricant du composant - dans ce cas, la carte réseau de l'ordinateur. Elle ne changera jamais, que l'ordinateur soit allumé ou non, connecté au réseau ou non.\n",
    "<br><br>\n",
    "    <li><b>L'adresse IP</b>, elle, est fournie par un serveur, pour la durée de la connexion au réseau de l'ordinateur. Quand celui-ci se déconnecte (par exemple parce qu'il est éteint), il perd son adresse IP, qui peut alors être utilisée par un autre terminal.\n",
    "</ul>\n",
    "</font>"
   ]
  },
  {
   "cell_type": "markdown",
   "metadata": {},
   "source": [
    "**4 - Quelle est l'adresse IP (ipv4) de la machine de votre voisin?**"
   ]
  },
  {
   "cell_type": "markdown",
   "metadata": {},
   "source": [
    "Même format que votre adresse ip (\"172.20.12.xx\") mais avec les derniers chiffres différents puisque chaque IP est unique dans le réseau."
   ]
  },
  {
   "cell_type": "markdown",
   "metadata": {},
   "source": [
    "**5 - Quelle est la passerelle par défaut à laquelle se connecte votre ordinateur?**"
   ]
  },
  {
   "cell_type": "markdown",
   "metadata": {},
   "source": [
    "Même format que votre adresse IP, mais valeur différente: 172.20.12.254."
   ]
  },
  {
   "cell_type": "markdown",
   "metadata": {},
   "source": [
    "**6 - Repensez au cours que l'on a fait sur internet et les réseaux: quelle est le rôle de cette passerelle? Vers quoi est-elle une passerelle selon vous?**"
   ]
  },
  {
   "cell_type": "markdown",
   "metadata": {},
   "source": [
    "<font color=\"red\">\n",
    "    Cette passerelle fait <b>le \"pont\" entre le réseau du lycée et internet</b> (donc le reste du monde). <br><br>Toutes les demandes formulées par les ordinateurs du lycée à destination de l'extérieur (de Google, de Youtube, d'Instagram - de n'importe quel site) sortent par cette passerelle; toutes les réponses de ces sites (par exemple: le résultat d'une recherche demandée à Google) atteint votre ordinateur en rentrant par cette passerelle).<br><br>\n",
    "Le schéma ci-dessous résume cette idée (un \"LAN\" est un \"Local Area Network\" - un réseau local comme celui du lycée, en d'autres termes).\n",
    "</font>\n",
    "\n",
    "<img src=\"https://drive.google.com/uc?export=download&id=1l-9YG58lEQQuN4cc32EID534CrqxfUwD\"\n",
    "     width=\"500\" \n",
    "     height=auto />"
   ]
  },
  {
   "cell_type": "markdown",
   "metadata": {},
   "source": [
    "<h2 class=\"alert alert-info\">Exercice 2 : allons plus loin - comment est-on vus de l'extérieur?</h2>"
   ]
  },
  {
   "cell_type": "markdown",
   "metadata": {},
   "source": [
    "Dans un navigateur internet (celui où cette page est ouverte par exemple), utilisez google pour trouver l'adresse IP de votre machine telle qu'elle est vue de l'extérieur (on appelle ça une \"IP publique\")."
   ]
  },
  {
   "cell_type": "markdown",
   "metadata": {},
   "source": [
    "**1 - Quelle est cette adresse? Est-elle la même que celle que nous avons obtenue par ipconfig, plus haut?**"
   ]
  },
  {
   "cell_type": "markdown",
   "metadata": {},
   "source": [
    "Cette adresse se trouve en faisant une recherche sur Google et en consultant des sites web qui font ça - <a href=\"https://mon-adresse-ip.fr\">celui-ci</a> par exemple.<br><br>\n",
    "La valeur trouvée était: 93.12.29.30"
   ]
  },
  {
   "cell_type": "markdown",
   "metadata": {},
   "source": [
    "**2 - Quelle est l'adresse IP publique de la machine de votre voisin? Comment expliquez-vous ça (référez-vous au schéma ci-dessous au besoin)?**"
   ]
  },
  {
   "cell_type": "markdown",
   "metadata": {},
   "source": [
    "Le voisin a exactement la même adresse publilque puisque celle-ci est fournie à son ordinateur par la passerelle - et que le vôtre utilisez la même."
   ]
  },
  {
   "cell_type": "markdown",
   "metadata": {},
   "source": [
    "<h4>Une représentation graphique de IP privée // IP publique:</h4><br>\n",
    "<img alt=\"IP privée / publique\" style=\"border-width:0\" width=\"45%\" height=\"45%\" src=\"https://academy.avast.com/hs-fs/hubfs/New_Avast_Academy/Public%20vs.%20local%20IP%20addresses%20(Academy)/Public-vs-Private-IP-Addresses-01-FR.png?width=1328&height=1448&name=Public-vs-Private-IP-Addresses-01-FR.png\" /><br />"
   ]
  },
  {
   "cell_type": "markdown",
   "metadata": {},
   "source": [
    "**3 - En vous aidant du schéma ci-dessus, expliquez brièvement qui utilise votre adresse IP interne et qui utilise votre adresse IP publique.**"
   ]
  },
  {
   "cell_type": "markdown",
   "metadata": {},
   "source": [
    "<font color=\"red\">\n",
    "    L'adresse IP publique est celle qui est présentée à internet, c'est-à-dire à l'ensemble des réseaux extérieurs au lycée auxquels il peut avoir accès, par la passerelle du lycée et qui permet à d'autres personnes de vous trouver en ligne. C'est une adresse unique qui permet de communiquer avec d'autres ordinateurs sur Internet - envoyer/recevoir des informations, comme des pages web ou des e-mails.\n",
    "    <br><br>\n",
    "    L'adresse IP privée, elle, est celle de votre ordinateur spécifiquement, interne au lycée: elle n'est pas visible depuis l'extérieur du lycée, et sert aux ordinateurs à l'intérieur de communiquer entre eux, et à la passerelle d'identifier quelles réponses il reçoit sur son adresse publique correspondent à quelle demande il a reçue depuis l'intérieur.\n",
    "    <br><br>\n",
    "    Pour faire une analogie avec la Poste et le \"vrai\" courrier: si une enveloppe est postée depuis l'extérieur du lycée (<i><b>internet</b></i>) à:\n",
    "    <center><i>Lycée Fustel de Coulanges, 11, rue de Migneaux 91300 MASSY<br>A l'attention de Monsieur le Proviseur, Bureau n°1<br></i><br>\n",
    "    </center>\n",
    "    La Poste (<i><b>les routeurs sur Internet</b></i>) n'utilisera que la première partie de ce qui est sur l'enveloppe - l'adresse du lycée (<i><b>l'adresse IP publique</b></i>) pour faire parvenir l'enveloppe au lycée où elle sera prise en charge par le secrétariat (<i><b>la passerelle</b></i>). Ce secrétariat, lui, regardera la seconde partie de ce qui est sur l'enveloppe - le destinataire et le numéro de bureau (<i><b>l'adresse IP privée</b></i>) pour faire parvenir l'enveloppe à son destinataire final (<i><b>votre ordinateur</b></i>).</font>"
   ]
  },
  {
   "cell_type": "markdown",
   "metadata": {},
   "source": [
    "<h2 class=\"alert alert-info\">Exercice 3 : le \"ping\"</h2>"
   ]
  },
  {
   "cell_type": "markdown",
   "metadata": {},
   "source": [
    "Dans l'invite de commande ouverte à l'exercice 1, taper `ping lemonde.fr` puis sur la touche <kbd>Enter<span>&crarr;</span></kbd>. <i>(Note: lemonde.fr est le site web du journal quotidien français Le Monde.)</i><br>\n",
    "\n",
    "Un `ping` est une commande qui envoie des paquets de test un par un à un destinataire et qui mesure le temps que met le destinataire à répondre - c'est un outil utilisé pour déterminer si une machine est joignable depuis la vôtre et pour mesurer sommairement la qualité de la connexion avec elle."
   ]
  },
  {
   "cell_type": "markdown",
   "metadata": {},
   "source": [
    "**1 - Quelle est l'adresse IP du site web du journal Le Monde? Combien de temps en moyenne met le serveur à répondre?**"
   ]
  },
  {
   "cell_type": "markdown",
   "metadata": {},
   "source": [
    "L'adresse IP est fournie par le ping (151.101.2.137). Le temps moyen de réponse est de l'ordre de 5ms (millisecondes)."
   ]
  },
  {
   "cell_type": "markdown",
   "metadata": {},
   "source": [
    "**2 - Faites à présent un `ping samoagovt.ws` (c'est le site web du gouvernement des Iles Samoa, situées en Océanie, à plus de 15.000 kilomètres d'ici). Quelle est l'adresse IP trouvée? Combien de temps en moyenne met le serveur à répondre?**"
   ]
  },
  {
   "cell_type": "markdown",
   "metadata": {},
   "source": [
    "L'adresse IP est 45.60.98.34; le temps moyen de réponse est de l'ordre de 85ms."
   ]
  },
  {
   "cell_type": "markdown",
   "metadata": {},
   "source": [
    "**3 - Faites à présent un `ping` vers l'adresse IP de l'ordinateur de votre voisin (trouvée lors de la première question) Combien de temps en moyenne met le serveur à répondre?**"
   ]
  },
  {
   "cell_type": "markdown",
   "metadata": {},
   "source": [
    "L'adresse IP est celle (interne) trouvée pour répondre à la partie 4 de la question 1 ci-dessus, et la commande à taper en utilisant cette adresse est: \"ping 172.20.12.xx\". Le temps moyen de réponse est de l'ordre de 1ms."
   ]
  },
  {
   "cell_type": "markdown",
   "metadata": {},
   "source": [
    "**4 - Classez les trois requêtes ping que vous venez de faire de la plus rapide à la plus lente. Comment expliquez-vous cet ordre?**"
   ]
  },
  {
   "cell_type": "markdown",
   "metadata": {},
   "source": [
    "<font color=\"red\">\n",
    "    La plus rapide est celle vers l'ordinateur du voisin, suivie de celle vers lemonde.fr, suivie de celle vers le gouvernement des Samoa. Les différences de vitesse de réponse s'expliquent simplement par <b>la physique et les distances à parcourrir le long de cables de diverses nature (fibre optique principalement)</b> qui sont quasi-nulle pour l'ordinateur du voisin; très faible pour le serveur du Monde (qui se trouve à Paris); et de l'ordre de plusieurs de dizaine de milliers de kilomètres pour le gouvernement des Samoa (qui se trouve en Océanie, presqu'à l'opposé du globe par rapport à nous).\n",
    "</font>   "
   ]
  },
  {
   "cell_type": "markdown",
   "metadata": {},
   "source": [
    "**5 - Faites à présent un ping de l'adresse IP publique de votre ordinateur? Que constatez-vous? Comment l'expliquez-vous?**"
   ]
  },
  {
   "cell_type": "markdown",
   "metadata": {},
   "source": [
    "<font color=\"red\">\n",
    "    Le ping ne fonctionne pas (les paquets sont perdus). Il y a plusieurs explications à celà mais pour simplifier drastiquement on peut revenir aux définitions des adresses IP publique et privée ci-dessus: l'adresse IP publique <b>est présentée à internet par la passerelle afin d'assurer les communications entre ce qui lui arrive de l'intérieur du réseau du lycée et l'extérieur (internet, donc)</b>. Cette adresse n'est donc jamais présentée au réseau du lycée - l'adresse utilisée par la passerelle pour celui-ci est celle trouvée dans le ipconfig plus haut (partie 5 de la question 1).\n",
    "</font>"
   ]
  }
 ],
 "metadata": {
  "kernelspec": {
   "display_name": "Python 3",
   "language": "python",
   "name": "python3"
  },
  "language_info": {
   "codemirror_mode": {
    "name": "ipython",
    "version": 3
   },
   "file_extension": ".py",
   "mimetype": "text/x-python",
   "name": "python",
   "nbconvert_exporter": "python",
   "pygments_lexer": "ipython3",
   "version": "3.8.5"
  }
 },
 "nbformat": 4,
 "nbformat_minor": 2
}
